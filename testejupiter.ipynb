{
 "cells": [
  {
   "cell_type": "code",
   "execution_count": 3,
   "metadata": {},
   "outputs": [
    {
     "name": "stdout",
     "output_type": "stream",
     "text": [
      "1º prêmio CESTA GRANDE\n",
      "2º prêmio CESTA MEDIA\n",
      "3º prêmio CESTA PEQUENA\n"
     ]
    }
   ],
   "source": [
    "lista2 = {'1º prêmio': 'CESTA GRANDE', '2º prêmio': 'CESTA MEDIA', '3º prêmio': 'CESTA PEQUENA'}\n",
    "x = 40\n",
    "for nome,numero in lista2.items():\n",
    "    x -= 20\n",
    "    print(nome,numero)\n",
    "    "
   ]
  },
  {
   "cell_type": "code",
   "execution_count": 4,
   "metadata": {},
   "outputs": [],
   "source": [
    "premios_qtd = int(\"3\")\n"
   ]
  },
  {
   "cell_type": "code",
   "execution_count": 6,
   "metadata": {},
   "outputs": [
    {
     "name": "stdout",
     "output_type": "stream",
     "text": [
      "Os premios a ser sorteados são: ['1º prêmio: ', '2º prêmio: ass', '3º prêmio: asas']\n"
     ]
    }
   ],
   "source": [
    "i= int(\"1\")\n",
    "premio_sorteado = []\n",
    "premio_lista = []\n",
    "while i <= premios_qtd:\n",
    "    premio=(input(f'Qual {i}º premia ser sorteado?'))\n",
    "    premio_lista.append(f\"{i}º prêmio: {premio}\")\n",
    "    i= i + 1\n",
    "print(f'Os premios a ser sorteados são: {premio_lista}')\n",
    "\n",
    "\n",
    "#1º prêmio = ??? ; 2º prêmio = ???\n",
    "#['1º prêmio: CESTA GRANDE', '2º prêmio: CESTA MEDIA', '3º prêmio: CESTA PEQUENA']\n",
    "\n"
   ]
  },
  {
   "cell_type": "code",
   "execution_count": 11,
   "metadata": {},
   "outputs": [
    {
     "data": {
      "text/plain": [
       "_sitebuiltins._Helper"
      ]
     },
     "execution_count": 11,
     "metadata": {},
     "output_type": "execute_result"
    }
   ],
   "source": [
    "help.__class__"
   ]
  },
  {
   "cell_type": "code",
   "execution_count": 21,
   "metadata": {},
   "outputs": [
    {
     "name": "stdout",
     "output_type": "stream",
     "text": [
      "Os prêmios a ser sorteados são: {'1º prêmio:': '123'}\n"
     ]
    }
   ],
   "source": [
    "premios_qtd = int(\"1\")\n",
    "i= int(\"1\")\n",
    "# premio_sorteado = []\n",
    "premio_dicionario = {}\n",
    "while i <= premios_qtd:\n",
    "    premio= str(input(f'Qual {i}º prêmio a ser sorteado?'))\n",
    "    # premio_lista.append(f\"{i}º prêmio: {premio}\")\n",
    "    # premio_dicionario.items[f\"{i}º prêmio:\"]\n",
    "    # premio_dicionario.update(f\"{i}º prêmio: {premio}\")\n",
    "    premio_dicionario[f\"{i}º prêmio:\"]= premio\n",
    "    i= i + 1\n",
    "print(f'Os prêmios a ser sorteados são: {premio_dicionario}')"
   ]
  },
  {
   "cell_type": "code",
   "execution_count": 40,
   "metadata": {},
   "outputs": [
    {
     "name": "stdout",
     "output_type": "stream",
     "text": [
      "pdf.line(320, 20, 10, 20)\n",
      "pdf.line(340, 20, 10, 20)\n",
      "pdf.line(380, 20, 10, 20)\n",
      "pdf.line(460, 20, 10, 20)\n"
     ]
    }
   ],
   "source": [
    "linhas = 10\n",
    "numeros_inicial = 1\n",
    "tracos= numeros_inicial\n",
    "while tracos <= linhas: \n",
    "    print(f'pdf.line({300 + (tracos*20)}, 20, 10, 20)')\n",
    "    tracos += tracos"
   ]
  },
  {
   "cell_type": "code",
   "execution_count": 44,
   "metadata": {},
   "outputs": [
    {
     "name": "stdout",
     "output_type": "stream",
     "text": [
      "pdf.line(101, 20, 10, 20\n",
      "pdf.line(201, 20, 10, 20\n",
      "pdf.line(301, 20, 10, 20\n",
      "pdf.line(401, 20, 10, 20\n",
      "pdf.line(501, 20, 10, 20\n",
      "pdf.line(601, 20, 10, 20\n",
      "pdf.line(701, 20, 10, 20\n",
      "pdf.line(801, 20, 10, 20\n",
      "pdf.line(901, 20, 10, 20\n",
      "pdf.line(1001, 20, 10, 20\n"
     ]
    }
   ],
   "source": [
    "linhas = 10\n",
    "numeros_inicial = 1\n",
    "tracos= numeros_inicial\n",
    "lin= 0\n",
    "        \n",
    "while lin < linhas: \n",
    "    tracos += 100\n",
    "    print(f'pdf.line({tracos}, 20, 10, 20')\n",
    "    lin= lin + 1"
   ]
  },
  {
   "cell_type": "code",
   "execution_count": 56,
   "metadata": {},
   "outputs": [
    {
     "name": "stdout",
     "output_type": "stream",
     "text": [
      "pdf.line(10, 20, 10, 20\n",
      "pdf.line(10, 40, 10, 40\n",
      "pdf.line(10, 60, 10, 60\n",
      "pdf.line(10, 80, 10, 80\n",
      "pdf.line(10, 100, 10, 100\n",
      "pdf.line(10, 120, 10, 120\n",
      "pdf.line(10, 140, 10, 140\n",
      "pdf.line(10, 160, 10, 160\n",
      "pdf.line(10, 180, 10, 180\n",
      "pdf.line(10, 200, 10, 200\n"
     ]
    }
   ],
   "source": [
    "linhas = 10\n",
    "numeros_inicial = 0\n",
    "tracos= numeros_inicial\n",
    "lin= 1\n",
    "        \n",
    "while lin <= linhas: \n",
    "    tracos = tracos + 20\n",
    "    print (f'pdf.line(10, {tracos}, 10, {tracos}')\n",
    "    lin = lin +1"
   ]
  },
  {
   "cell_type": "code",
   "execution_count": 60,
   "metadata": {},
   "outputs": [
    {
     "name": "stdout",
     "output_type": "stream",
     "text": [
      "pdf.line(10, 4.9, 580, 4.9\n",
      "pdf.drawCentredString(30, 4.9, 1)\n",
      "pdf.line(10, 8.8, 580, 8.8\n",
      "pdf.drawCentredString(30, 8.8, 2)\n",
      "pdf.line(10, 12.700000000000001, 580, 12.700000000000001\n",
      "pdf.drawCentredString(30, 12.700000000000001, 3)\n",
      "pdf.line(10, 16.6, 580, 16.6\n",
      "pdf.drawCentredString(30, 16.6, 4)\n",
      "pdf.line(10, 20.5, 580, 20.5\n",
      "pdf.drawCentredString(30, 20.5, 5)\n",
      "pdf.line(10, 24.4, 580, 24.4\n",
      "pdf.drawCentredString(30, 24.4, 6)\n",
      "pdf.line(10, 28.299999999999997, 580, 28.299999999999997\n",
      "pdf.drawCentredString(30, 28.299999999999997, 7)\n",
      "pdf.line(10, 32.199999999999996, 580, 32.199999999999996\n",
      "pdf.drawCentredString(30, 32.199999999999996, 8)\n",
      "pdf.line(10, 36.099999999999994, 580, 36.099999999999994\n",
      "pdf.drawCentredString(30, 36.099999999999994, 9)\n",
      "pdf.line(10, 39.99999999999999, 580, 39.99999999999999\n",
      "pdf.drawCentredString(30, 39.99999999999999, 10)\n"
     ]
    }
   ],
   "source": [
    "\n",
    "linhas = 10\n",
    "numeros_inicial = 1\n",
    "tracos= numeros_inicial\n",
    "lin= 1\n",
    "numero_linhas = 1\n",
    "altura_linhas= -((40 - numeros_inicial)/linhas)\n",
    "while lin <= linhas: \n",
    "    tracos = tracos - altura_linhas # é a altura entre linha\n",
    "    print(f\"pdf.line(10, {tracos}, 580, {tracos}\")\n",
    "    print(f\"pdf.drawCentredString(30, {tracos}, {numero_linhas})\")\n",
    "    numero_linhas= lin +1\n",
    "    lin = lin +1"
   ]
  },
  {
   "cell_type": "code",
   "execution_count": null,
   "metadata": {},
   "outputs": [],
   "source": [
    "# def dados():\n",
    "\n",
    "#     dado = {}\n",
    "#     chaves = [\"nome_clube\",\n",
    "#                 \"nome_subtitulo\",\n",
    "#                 \"data_sorteio\",\t\t\t\t\t\t\t\n",
    "#                 \"local_sorteio\",\n",
    "#                 \"rifa_valor\",\n",
    "#                 \"premios_qtd\",\n",
    "#                 \"rifa_total_numeros\",\n",
    "#                 \"rifa_qtd_numeros_folha\"]\n",
    "#     i=0\n",
    "#     for f in chaves:\n",
    "#         dado[f]=f\"entry_{i}.get()\"\n",
    "#         i= i +1\n",
    "#     return(dado)\n",
    "\n",
    "# print(dados())\n",
    " "
   ]
  },
  {
   "cell_type": "code",
   "execution_count": 16,
   "metadata": {},
   "outputs": [
    {
     "name": "stdout",
     "output_type": "stream",
     "text": [
      "['entry_1.get()', 'entry_2.get()', 'entry_3.get()', 'entry_4.get()', 'entry_5.get()', 'entry_6.get()', 'entry_7.get()', 'entry_8.get()']\n",
      "<function dados_gerais at 0x000001C79BA6A440>\n"
     ]
    }
   ],
   "source": [
    "def dados_get():\n",
    "    dado_get=[]\n",
    "    i=1\n",
    "    while i <= 8:\n",
    "        dado_get.append(f\"entry_{i}.get()\")\n",
    "        i= i + 1\n",
    "    return(dado_get)    \n",
    "print(dados_get())\n",
    "\n",
    "def dados_gerais(dados_get):\n",
    "    def dados():\n",
    "        dado = {}\n",
    "        chaves = [\"nome_clube\",\n",
    "                \"nome_subtitulo\",\n",
    "                \"data_sorteio\",\t\t\t\t\t\t\t\n",
    "                \"local_sorteio\",\n",
    "                \"rifa_valor\",\n",
    "                \"premios_qtd\",\n",
    "                \"rifa_total_numeros\",\n",
    "                \"rifa_qtd_numeros_folha\"]\n",
    "        i=0\n",
    "        for f in chaves:\n",
    "            dado[f]= dados_get()[i]\n",
    "            i= i +1\n",
    "        return(dado)\n",
    "    return(dados_gerais)\n",
    "print(dados_gerais(dados_get))\n",
    "\n",
    "help.configure().keys()\n",
    "    \n",
    "\n",
    "       "
   ]
  },
  {
   "cell_type": "code",
   "execution_count": 28,
   "metadata": {},
   "outputs": [],
   "source": [
    "def criar_premios(premio_qtd):\n",
    "    i= 1\n",
    "    while i <= premio_qtd:\n",
    "        altura= (i * 20) + 27\n",
    "        premio_linhas = f'(20.0, {altura}, anchor=\"nw\", text=\"{i}º Prêmio:\", fill=\"#17740E\", font=(\"Inter\", 13 * -1))'\n",
    "        return premio_linhas\n",
    "\n",
    "\n",
    "\n"
   ]
  },
  {
   "cell_type": "code",
   "execution_count": 13,
   "metadata": {},
   "outputs": [
    {
     "name": "stdout",
     "output_type": "stream",
     "text": [
      "{}\n"
     ]
    }
   ],
   "source": [
    "entry_1= 10\n",
    "entry_2= 20\n",
    "entry_3= 30\n",
    "entry_4= 40\n",
    "entry_5= 50\n",
    "entry_6= 60\n",
    "entry_7= 70\n",
    "entry_8= 80\n",
    "\n",
    "premios= int(5)\n",
    "premios_dicionario={}\n",
    "def premios_nr(premios_qtd):\n",
    "    i=1\n",
    "    while i <= premios_qtd:\n",
    "        dict.fromkeys(f'{i}º Prêmio',f'entry_{i}.get()')\n",
    "        \n",
    "        # premios_dicionario.append(f\"entry_{i}.get()\")\n",
    "        # f'entry_{i}'.get()\n",
    "        i= i + 1\n",
    "    return(premios_dicionario) \n",
    "\n",
    "print(premios_nr(premios))"
   ]
  },
  {
   "cell_type": "code",
   "execution_count": 24,
   "metadata": {},
   "outputs": [],
   "source": [
    "from pathlib import Path\n",
    "\n",
    "from tkinter import *\n",
    "# Explicit imports to satisfy Flake8\n",
    "\n",
    "from tkinter import Tk, Canvas, Entry, Text, Button, PhotoImage"
   ]
  },
  {
   "cell_type": "code",
   "execution_count": 27,
   "metadata": {},
   "outputs": [
    {
     "ename": "NameError",
     "evalue": "name '__file__' is not defined",
     "output_type": "error",
     "traceback": [
      "\u001b[1;31m---------------------------------------------------------------------------\u001b[0m",
      "\u001b[1;31mNameError\u001b[0m                                 Traceback (most recent call last)",
      "Cell \u001b[1;32mIn[27], line 1\u001b[0m\n\u001b[1;32m----> 1\u001b[0m OUTPUT_PATH \u001b[39m=\u001b[39m Path(\u001b[39m__file__\u001b[39;49m)\u001b[39m.\u001b[39mparent\n\u001b[0;32m      2\u001b[0m ASSETS_PATH \u001b[39m=\u001b[39m OUTPUT_PATH \u001b[39m/\u001b[39m Path(\n\u001b[0;32m      3\u001b[0m     \u001b[39mr\u001b[39m\u001b[39m\"\u001b[39m\u001b[39mC:\u001b[39m\u001b[39m\\\u001b[39m\u001b[39mUsers\u001b[39m\u001b[39m\\\u001b[39m\u001b[39mtigge\u001b[39m\u001b[39m\\\u001b[39m\u001b[39mOneDrive\u001b[39m\u001b[39m\\\u001b[39m\u001b[39mÁrea de Trabalho\u001b[39m\u001b[39m\\\u001b[39m\u001b[39mHT testes\u001b[39m\u001b[39m\\\u001b[39m\u001b[39mRifa_clube_maes\u001b[39m\u001b[39m\\\u001b[39m\u001b[39mbuild\u001b[39m\u001b[39m\\\u001b[39m\u001b[39massets\u001b[39m\u001b[39m\\\u001b[39m\u001b[39mframe0\u001b[39m\u001b[39m\"\u001b[39m\n\u001b[0;32m      4\u001b[0m )\n\u001b[0;32m      7\u001b[0m \u001b[39mdef\u001b[39;00m \u001b[39mrelative_to_assets\u001b[39m(path: \u001b[39mstr\u001b[39m) \u001b[39m-\u001b[39m\u001b[39m>\u001b[39m Path:\n",
      "\u001b[1;31mNameError\u001b[0m: name '__file__' is not defined"
     ]
    }
   ],
   "source": [
    "\n",
    "\n",
    "OUTPUT_PATH = Path(__file__).parent\n",
    "ASSETS_PATH = OUTPUT_PATH / Path(\n",
    "    r\"C:\\Users\\tigge\\OneDrive\\Área de Trabalho\\HT testes\\Rifa_clube_maes\\build\\assets\\frame0\"\n",
    ")\n",
    "\n",
    "\n",
    "def relative_to_assets(path: str) -> Path:\n",
    "    return ASSETS_PATH / Path(path)\n",
    "\n",
    "\n",
    "window = Tk()\n",
    "\n",
    "window.geometry(\"700x500\")\n",
    "window.configure(bg=\"#2B3EEB\")\n",
    "\n",
    "canvas = Canvas(\n",
    "    window,\n",
    "    bg=\"#2B3EEB\",\n",
    "    height=500,\n",
    "    width=700,\n",
    "    bd=0,\n",
    "    highlightthickness=0,\n",
    "    relief=\"ridge\",\n",
    ")\n",
    "canvas.place(x=0, y=0)\n",
    "canvas.create_text(\n",
    "    175.0,\n",
    "    8.0,\n",
    "    anchor=\"nw\",\n",
    "    text=\"Descrição dos Prêmios:\",\n",
    "    fill=\"#16730E\",\n",
    "    font=(\"Inter ExtraBold\", 30 * -1),)\n",
    "\n",
    "\n",
    "window.resizable(False, False)\n",
    "window.mainloop()\n",
    "\n"
   ]
  },
  {
   "cell_type": "code",
   "execution_count": 56,
   "metadata": {},
   "outputs": [
    {
     "name": "stdout",
     "output_type": "stream",
     "text": [
      "(20.0, 47.0, anchor=\"nw\", text=\"1º Prêmio:\", fill=\"#17740E\", font=(\"Inter\", 13 * -1))\n",
      "(20.0, 67.0, anchor=\"nw\", text=\"2º Prêmio:\", fill=\"#17740E\", font=(\"Inter\", 13 * -1))\n",
      "(20.0, 87.0, anchor=\"nw\", text=\"3º Prêmio:\", fill=\"#17740E\", font=(\"Inter\", 13 * -1))\n"
     ]
    }
   ],
   "source": [
    "def criar_premios(premio_qtd):\n",
    "    i= 1\n",
    "    while i <= premio_qtd:\n",
    "        altura= float((i * 20) + 27.0)\n",
    "        premio_linhas = f'(20.0, {altura}, anchor=\"nw\", text=\"{i}º Prêmio:\", fill=\"#17740E\", font=(\"Inter\", 13 * -1))'\n",
    "        i= 1 + i\n",
    "        print(premio_linhas)\n",
    "    return \n",
    "    \n",
    "criar_premios(3)"
   ]
  },
  {
   "cell_type": "code",
   "execution_count": 19,
   "metadata": {},
   "outputs": [
    {
     "name": "stdout",
     "output_type": "stream",
     "text": [
      "{'1º premio': 'premio grande', '2º premio': 'premio medio', '3º premio': 'premio pequeno'}\n"
     ]
    }
   ],
   "source": [
    "# def dicionario(premios_nr,premios_sorteio):\n",
    "#     dicionario_prêmios={}\n",
    "#     dicionario_premios.keys(premios_nr[])= \n",
    "#     dicionario_premios=premios_sorteio.values() \n",
    "#     return dicionario_prêmios\n",
    "\n",
    "premios_nr = (\"1º premio\",\"2º premio\",\"3º premio\")\n",
    "premios_sorteio = (\"premio grande\",\"premio medio\",\"premio pequeno\",)\n",
    "def dicionario_premios(x,y):\n",
    "    dicionario_p=dict(zip(x, y, strict=True))\n",
    "    return dicionario_p\n",
    "\n",
    "print(dicionario_premios(premios_nr,premios_sorteio))\n"
   ]
  },
  {
   "cell_type": "code",
   "execution_count": 27,
   "metadata": {},
   "outputs": [
    {
     "name": "stdout",
     "output_type": "stream",
     "text": [
      "['0º Prêmio:', '1º Prêmio:', '2º Prêmio:', '3º Prêmio:', '4º Prêmio:']\n"
     ]
    }
   ],
   "source": [
    "premio_valor= int(5)\n",
    "# def criarpremios(premio_valor):\n",
    "i= 0\n",
    "x= 0\n",
    "lista_premios= []\n",
    "for i in list(range(5)):\n",
    "    lista_premios.append(f\"{i}º Prêmio:\")\n",
    "print(lista_premios)"
   ]
  },
  {
   "cell_type": "code",
   "execution_count": 25,
   "metadata": {},
   "outputs": [
    {
     "name": "stdout",
     "output_type": "stream",
     "text": [
      "[0, 1, 2, 3, 4]\n"
     ]
    }
   ],
   "source": [
    "x=(i-1)\n",
    "print (list(range(5)))"
   ]
  }
 ],
 "metadata": {
  "kernelspec": {
   "display_name": "Python 3",
   "language": "python",
   "name": "python3"
  },
  "language_info": {
   "codemirror_mode": {
    "name": "ipython",
    "version": 3
   },
   "file_extension": ".py",
   "mimetype": "text/x-python",
   "name": "python",
   "nbconvert_exporter": "python",
   "pygments_lexer": "ipython3",
   "version": "3.10.9"
  },
  "orig_nbformat": 4
 },
 "nbformat": 4,
 "nbformat_minor": 2
}
