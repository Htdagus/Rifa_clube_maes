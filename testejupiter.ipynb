{
 "cells": [
  {
   "cell_type": "code",
   "execution_count": 3,
   "metadata": {},
   "outputs": [
    {
     "name": "stdout",
     "output_type": "stream",
     "text": [
      "1º prêmio CESTA GRANDE\n",
      "2º prêmio CESTA MEDIA\n",
      "3º prêmio CESTA PEQUENA\n"
     ]
    }
   ],
   "source": [
    "lista2 = {'1º prêmio': 'CESTA GRANDE', '2º prêmio': 'CESTA MEDIA', '3º prêmio': 'CESTA PEQUENA'}\n",
    "x = 40\n",
    "for nome,numero in lista2.items():\n",
    "    x -= 20\n",
    "    print(nome,numero)\n",
    "    "
   ]
  },
  {
   "cell_type": "code",
   "execution_count": 4,
   "metadata": {},
   "outputs": [],
   "source": [
    "premios_qtd = int(\"3\")\n"
   ]
  },
  {
   "cell_type": "code",
   "execution_count": 6,
   "metadata": {},
   "outputs": [
    {
     "name": "stdout",
     "output_type": "stream",
     "text": [
      "Os premios a ser sorteados são: ['1º prêmio: ', '2º prêmio: ass', '3º prêmio: asas']\n"
     ]
    }
   ],
   "source": [
    "i= int(\"1\")\n",
    "premio_sorteado = []\n",
    "premio_lista = []\n",
    "while i <= premios_qtd:\n",
    "    premio=(input(f'Qual {i}º premio\n",
    "                   a ser sorteado?'))\n",
    "    premio_lista.append(f\"{i}º prêmio: {premio}\")\n",
    "    i= i + 1\n",
    "print(f'Os premios a ser sorteados são: {premio_lista}')\n",
    "\n",
    "\n",
    "#1º prêmio = ??? ; 2º prêmio = ???\n",
    "#['1º prêmio: CESTA GRANDE', '2º prêmio: CESTA MEDIA', '3º prêmio: CESTA PEQUENA']\n",
    "\n"
   ]
  },
  {
   "cell_type": "code",
   "execution_count": 11,
   "metadata": {},
   "outputs": [
    {
     "data": {
      "text/plain": [
       "_sitebuiltins._Helper"
      ]
     },
     "execution_count": 11,
     "metadata": {},
     "output_type": "execute_result"
    }
   ],
   "source": [
    "help.__class__"
   ]
  },
  {
   "cell_type": "code",
   "execution_count": 21,
   "metadata": {},
   "outputs": [
    {
     "name": "stdout",
     "output_type": "stream",
     "text": [
      "Os prêmios a ser sorteados são: {'1º prêmio:': '123'}\n"
     ]
    }
   ],
   "source": [
    "premios_qtd = int(\"1\")\n",
    "i= int(\"1\")\n",
    "# premio_sorteado = []\n",
    "premio_dicionario = {}\n",
    "while i <= premios_qtd:\n",
    "    premio= str(input(f'Qual {i}º prêmio a ser sorteado?'))\n",
    "    # premio_lista.append(f\"{i}º prêmio: {premio}\")\n",
    "    # premio_dicionario.items[f\"{i}º prêmio:\"]\n",
    "    # premio_dicionario.update(f\"{i}º prêmio: {premio}\")\n",
    "    premio_dicionario[f\"{i}º prêmio:\"]= premio\n",
    "    i= i + 1\n",
    "print(f'Os prêmios a ser sorteados são: {premio_dicionario}')"
   ]
  },
  {
   "cell_type": "code",
   "execution_count": 40,
   "metadata": {},
   "outputs": [
    {
     "name": "stdout",
     "output_type": "stream",
     "text": [
      "pdf.line(320, 20, 10, 20)\n",
      "pdf.line(340, 20, 10, 20)\n",
      "pdf.line(380, 20, 10, 20)\n",
      "pdf.line(460, 20, 10, 20)\n"
     ]
    }
   ],
   "source": [
    "linhas = 10\n",
    "numeros_inicial = 1\n",
    "tracos= numeros_inicial\n",
    "while tracos <= linhas: \n",
    "    print(f'pdf.line({300 + (tracos*20)}, 20, 10, 20)')\n",
    "    tracos += tracos"
   ]
  },
  {
   "cell_type": "code",
   "execution_count": 44,
   "metadata": {},
   "outputs": [
    {
     "name": "stdout",
     "output_type": "stream",
     "text": [
      "pdf.line(101, 20, 10, 20\n",
      "pdf.line(201, 20, 10, 20\n",
      "pdf.line(301, 20, 10, 20\n",
      "pdf.line(401, 20, 10, 20\n",
      "pdf.line(501, 20, 10, 20\n",
      "pdf.line(601, 20, 10, 20\n",
      "pdf.line(701, 20, 10, 20\n",
      "pdf.line(801, 20, 10, 20\n",
      "pdf.line(901, 20, 10, 20\n",
      "pdf.line(1001, 20, 10, 20\n"
     ]
    }
   ],
   "source": [
    "linhas = 10\n",
    "numeros_inicial = 1\n",
    "tracos= numeros_inicial\n",
    "lin= 0\n",
    "        \n",
    "while lin < linhas: \n",
    "    tracos += 100\n",
    "    print(f'pdf.line({tracos}, 20, 10, 20')\n",
    "    lin= lin + 1"
   ]
  },
  {
   "cell_type": "code",
   "execution_count": 56,
   "metadata": {},
   "outputs": [
    {
     "name": "stdout",
     "output_type": "stream",
     "text": [
      "pdf.line(10, 20, 10, 20\n",
      "pdf.line(10, 40, 10, 40\n",
      "pdf.line(10, 60, 10, 60\n",
      "pdf.line(10, 80, 10, 80\n",
      "pdf.line(10, 100, 10, 100\n",
      "pdf.line(10, 120, 10, 120\n",
      "pdf.line(10, 140, 10, 140\n",
      "pdf.line(10, 160, 10, 160\n",
      "pdf.line(10, 180, 10, 180\n",
      "pdf.line(10, 200, 10, 200\n"
     ]
    }
   ],
   "source": [
    "linhas = 10\n",
    "numeros_inicial = 0\n",
    "tracos= numeros_inicial\n",
    "lin= 1\n",
    "        \n",
    "while lin <= linhas: \n",
    "    tracos = tracos + 20\n",
    "    print (f'pdf.line(10, {tracos}, 10, {tracos}')\n",
    "    lin = lin +1"
   ]
  },
  {
   "cell_type": "code",
   "execution_count": 60,
   "metadata": {},
   "outputs": [
    {
     "name": "stdout",
     "output_type": "stream",
     "text": [
      "pdf.line(10, 4.9, 580, 4.9\n",
      "pdf.drawCentredString(30, 4.9, 1)\n",
      "pdf.line(10, 8.8, 580, 8.8\n",
      "pdf.drawCentredString(30, 8.8, 2)\n",
      "pdf.line(10, 12.700000000000001, 580, 12.700000000000001\n",
      "pdf.drawCentredString(30, 12.700000000000001, 3)\n",
      "pdf.line(10, 16.6, 580, 16.6\n",
      "pdf.drawCentredString(30, 16.6, 4)\n",
      "pdf.line(10, 20.5, 580, 20.5\n",
      "pdf.drawCentredString(30, 20.5, 5)\n",
      "pdf.line(10, 24.4, 580, 24.4\n",
      "pdf.drawCentredString(30, 24.4, 6)\n",
      "pdf.line(10, 28.299999999999997, 580, 28.299999999999997\n",
      "pdf.drawCentredString(30, 28.299999999999997, 7)\n",
      "pdf.line(10, 32.199999999999996, 580, 32.199999999999996\n",
      "pdf.drawCentredString(30, 32.199999999999996, 8)\n",
      "pdf.line(10, 36.099999999999994, 580, 36.099999999999994\n",
      "pdf.drawCentredString(30, 36.099999999999994, 9)\n",
      "pdf.line(10, 39.99999999999999, 580, 39.99999999999999\n",
      "pdf.drawCentredString(30, 39.99999999999999, 10)\n"
     ]
    }
   ],
   "source": [
    "\n",
    "linhas = 10\n",
    "numeros_inicial = 1\n",
    "tracos= numeros_inicial\n",
    "lin= 1\n",
    "numero_linhas = 1\n",
    "altura_linhas= -((40 - numeros_inicial)/linhas)\n",
    "while lin <= linhas: \n",
    "    tracos = tracos - altura_linhas # é a altura entre linha\n",
    "    print(f\"pdf.line(10, {tracos}, 580, {tracos}\")\n",
    "    print(f\"pdf.drawCentredString(30, {tracos}, {numero_linhas})\")\n",
    "    numero_linhas= lin +1\n",
    "    lin = lin +1"
   ]
  },
  {
   "cell_type": "code",
   "execution_count": null,
   "metadata": {},
   "outputs": [],
   "source": [
    "# def dados():\n",
    "\n",
    "#     dado = {}\n",
    "#     chaves = [\"nome_clube\",\n",
    "#                 \"nome_subtitulo\",\n",
    "#                 \"data_sorteio\",\t\t\t\t\t\t\t\n",
    "#                 \"local_sorteio\",\n",
    "#                 \"rifa_valor\",\n",
    "#                 \"premios_qtd\",\n",
    "#                 \"rifa_total_numeros\",\n",
    "#                 \"rifa_qtd_numeros_folha\"]\n",
    "#     i=0\n",
    "#     for f in chaves:\n",
    "#         dado[f]=f\"entry_{i}.get()\"\n",
    "#         i= i +1\n",
    "#     return(dado)\n",
    "\n",
    "# print(dados())\n",
    " "
   ]
  },
  {
   "cell_type": "code",
   "execution_count": 16,
   "metadata": {},
   "outputs": [
    {
     "name": "stdout",
     "output_type": "stream",
     "text": [
      "['entry_1.get()', 'entry_2.get()', 'entry_3.get()', 'entry_4.get()', 'entry_5.get()', 'entry_6.get()', 'entry_7.get()', 'entry_8.get()']\n",
      "<function dados_gerais at 0x000001C79BA6A440>\n"
     ]
    }
   ],
   "source": [
    "def dados_get():\n",
    "    dado_get=[]\n",
    "    i=1\n",
    "    while i <= 8:\n",
    "        dado_get.append(f\"entry_{i}.get()\")\n",
    "        i= i + 1\n",
    "    return(dado_get)    \n",
    "print(dados_get())\n",
    "\n",
    "def dados_gerais(dados_get):\n",
    "    def dados():\n",
    "        dado = {}\n",
    "        chaves = [\"nome_clube\",\n",
    "                \"nome_subtitulo\",\n",
    "                \"data_sorteio\",\t\t\t\t\t\t\t\n",
    "                \"local_sorteio\",\n",
    "                \"rifa_valor\",\n",
    "                \"premios_qtd\",\n",
    "                \"rifa_total_numeros\",\n",
    "                \"rifa_qtd_numeros_folha\"]\n",
    "        i=0\n",
    "        for f in chaves:\n",
    "            dado[f]= dados_get()[i]\n",
    "            i= i +1\n",
    "        return(dado)\n",
    "    return(dados_gerais)\n",
    "print(dados_gerais(dados_get))\n",
    "\n",
    "help.configure().keys())\n",
    "    \n",
    "\n",
    "       "
   ]
  },
  {
   "cell_type": "code",
   "execution_count": 22,
   "metadata": {},
   "outputs": [
    {
     "ename": "AttributeError",
     "evalue": "'_Helper' object has no attribute 'configure'",
     "output_type": "error",
     "traceback": [
      "\u001b[1;31m---------------------------------------------------------------------------\u001b[0m",
      "\u001b[1;31mAttributeError\u001b[0m                            Traceback (most recent call last)",
      "Cell \u001b[1;32mIn[22], line 1\u001b[0m\n\u001b[1;32m----> 1\u001b[0m help\u001b[39m.\u001b[39;49mconfigure()\n",
      "\u001b[1;31mAttributeError\u001b[0m: '_Helper' object has no attribute 'configure'"
     ]
    }
   ],
   "source": [
    "\n",
    "help.configure()\n",
    "\n",
    "\n",
    "\n"
   ]
  },
  {
   "cell_type": "code",
   "execution_count": 17,
   "metadata": {},
   "outputs": [],
   "source": [
    "lists = [[] for i in range(3)]"
   ]
  }
 ],
 "metadata": {
  "kernelspec": {
   "display_name": "Python 3",
   "language": "python",
   "name": "python3"
  },
  "language_info": {
   "codemirror_mode": {
    "name": "ipython",
    "version": 3
   },
   "file_extension": ".py",
   "mimetype": "text/x-python",
   "name": "python",
   "nbconvert_exporter": "python",
   "pygments_lexer": "ipython3",
   "version": "3.10.9"
  },
  "orig_nbformat": 4
 },
 "nbformat": 4,
 "nbformat_minor": 2
}
